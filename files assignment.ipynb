{
 "cells": [
  {
   "cell_type": "code",
   "execution_count": null,
   "id": "5d290e48-602f-4f50-87b8-72ff8e0c4396",
   "metadata": {},
   "outputs": [],
   "source": [
    "Q1. Which function is used to open a file? What are the different modes of opening a file? Explain each mode \n",
    "of file opening."
   ]
  },
  {
   "cell_type": "code",
   "execution_count": null,
   "id": "9f4facb7-5b47-4010-b40a-39b249aff301",
   "metadata": {},
   "outputs": [],
   "source": [
    "In python , built-in \"open()\" funnction is used to open a file.\n",
    "r - Read Mode: This is the default mode. It is used to open a file for reading. If the file does not exist, it will throw a FileNotFoundError. The\n",
    "file pointer is positioned at the beginning of the file.\n",
    "\n",
    "w - Write Mode: This mode is used to open a file for writing. If the file already exists, its contents will be truncated. If the file does not exist,\n",
    "it will be created. The file pointer is positioned at the beginning of the file.\n",
    "\n",
    "a - Append Mode: This mode is used to open a file for appending. If the file exists, the file pointer is positioned at the end of the file. If the\n",
    "file does not exist, it will be created.\n",
    "\n",
    "b - Binary Mode: This mode is used to open a file in binary mode. This is mainly used for non-text files like images, videos, etc."
   ]
  },
  {
   "cell_type": "code",
   "execution_count": null,
   "id": "60900c2b-de98-44db-800a-bbd2a701368b",
   "metadata": {},
   "outputs": [],
   "source": [
    "Q2. Why close() function is used? Why is it important to close a file?"
   ]
  },
  {
   "cell_type": "code",
   "execution_count": null,
   "id": "e8638e6a-6fbb-4824-ae08-e3716ee5883c",
   "metadata": {},
   "outputs": [],
   "source": [
    "close() function is used to close an open file. It is important to close a file after you have finished working with it, as it releases the resources\n",
    "that were being used to keep the file open.\n",
    "Closing a file also ensures that any data that has been written to the file is actually saved to the file. If the file is not closed properly,\n",
    "any data that has not been written to the file may be lost."
   ]
  },
  {
   "cell_type": "code",
   "execution_count": null,
   "id": "1fbb84b9-5445-409e-bebc-cf84bfe9ac9f",
   "metadata": {},
   "outputs": [],
   "source": [
    "Q3. Write a python program to create a text file. Write ‘I want to become a Data Scientist’ in that file. Then \n",
    "close the file. Open this file and read the content of the file. "
   ]
  },
  {
   "cell_type": "code",
   "execution_count": 2,
   "id": "3740793e-1599-428e-98a5-abc8258c7c3f",
   "metadata": {},
   "outputs": [],
   "source": [
    "f = open(\"text6.txt\", \"a\")"
   ]
  },
  {
   "cell_type": "code",
   "execution_count": 3,
   "id": "1a10b75d-e28d-4580-9d89-ea4c69a4b3b8",
   "metadata": {},
   "outputs": [
    {
     "data": {
      "text/plain": [
       "33"
      ]
     },
     "execution_count": 3,
     "metadata": {},
     "output_type": "execute_result"
    }
   ],
   "source": [
    "f.write(\"I want to become a Data Scientist\")"
   ]
  },
  {
   "cell_type": "code",
   "execution_count": 4,
   "id": "2abccf7e-5515-4de3-8b02-94af2e1235bf",
   "metadata": {},
   "outputs": [],
   "source": [
    "f.close()"
   ]
  },
  {
   "cell_type": "code",
   "execution_count": 5,
   "id": "09ee698a-e438-4045-9b9b-716fbc29fe4d",
   "metadata": {},
   "outputs": [],
   "source": [
    "f = open(\"text6.txt\", \"r\")"
   ]
  },
  {
   "cell_type": "code",
   "execution_count": 6,
   "id": "214a915c-a7de-4b40-94db-96b2a5cc3ca5",
   "metadata": {},
   "outputs": [
    {
     "data": {
      "text/plain": [
       "'I want to become a Data Scientist'"
      ]
     },
     "execution_count": 6,
     "metadata": {},
     "output_type": "execute_result"
    }
   ],
   "source": [
    "f.read()"
   ]
  },
  {
   "cell_type": "code",
   "execution_count": null,
   "id": "670af308-54b2-4008-9163-94c625b352ad",
   "metadata": {},
   "outputs": [],
   "source": [
    "Q4. Explain the following with python code: read(), readline() and readlines()."
   ]
  },
  {
   "cell_type": "code",
   "execution_count": 8,
   "id": "7b3bbdd0-239a-4633-b92b-a052d83d43b6",
   "metadata": {},
   "outputs": [
    {
     "name": "stdout",
     "output_type": "stream",
     "text": [
      "this is my first write operation in this filethis is my first write operation in this file\n"
     ]
    }
   ],
   "source": [
    "with open(\"text1.txt\", \"r\") as file:\n",
    "    contents = file.read()\n",
    "    print(contents)"
   ]
  },
  {
   "cell_type": "code",
   "execution_count": 9,
   "id": "9e9dec83-5fb8-4f2a-89d4-72c7b28f5319",
   "metadata": {},
   "outputs": [
    {
     "name": "stdout",
     "output_type": "stream",
     "text": [
      "INFO:root:this is my line of exection\n",
      "\n"
     ]
    }
   ],
   "source": [
    "with open(\"test.log\", \"r\") as file:\n",
    "    line = file.readline()\n",
    "    print(line)"
   ]
  },
  {
   "cell_type": "code",
   "execution_count": 10,
   "id": "5ca3abc9-b5df-403c-9421-4bd27571e6fa",
   "metadata": {},
   "outputs": [
    {
     "name": "stdout",
     "output_type": "stream",
     "text": [
      "INFO:root:this is my line of exection\n",
      "\n",
      "ERROR:root:this is my error\n",
      "\n",
      "CRITICAL:root:this is my critcal\n",
      "\n",
      "WARNING:root:this is my warning\n",
      "\n"
     ]
    }
   ],
   "source": [
    "with open(\"test.log\", \"r\") as file:\n",
    "    lines = file.readlines()\n",
    "    for line in lines:\n",
    "        print(line)"
   ]
  },
  {
   "cell_type": "code",
   "execution_count": null,
   "id": "d236bc49-cd9f-4ff0-9539-1b9f03cb8751",
   "metadata": {},
   "outputs": [],
   "source": [
    "Q5. Explain why with statement is used with open(). What is the advantage of using with statement and \n",
    "open() together?"
   ]
  },
  {
   "cell_type": "code",
   "execution_count": null,
   "id": "b4674e5e-53db-400c-b1cc-db2f87a15b7c",
   "metadata": {},
   "outputs": [],
   "source": [
    "The with statement creates a context in which the file is opened and used, and when the block of code under the with statement completes or raises\n",
    "an exception, the file is automatically closed.\n",
    "Advantages of with statement are:\n",
    "    automatic closing of file\n",
    "    improved readability\n",
    "    fewer lines of code"
   ]
  },
  {
   "cell_type": "code",
   "execution_count": null,
   "id": "f9e97925-87bf-4dfb-a199-76d88ad09f30",
   "metadata": {},
   "outputs": [],
   "source": [
    "Q6. Explain the write() and writelines() functions. Give a suitable example."
   ]
  },
  {
   "cell_type": "code",
   "execution_count": null,
   "id": "0759d2f3-0225-4912-aa6c-d7b65c8c0859",
   "metadata": {},
   "outputs": [],
   "source": [
    "The write() function is used to write a single string of data to a file."
   ]
  },
  {
   "cell_type": "code",
   "execution_count": 11,
   "id": "3f65ba9b-876f-4fb3-baee-d3ac0384fa1d",
   "metadata": {},
   "outputs": [],
   "source": [
    "with open(\"text6.txt\", \"w\") as file:\n",
    "    file.write(\"This is a test.\")"
   ]
  },
  {
   "cell_type": "code",
   "execution_count": null,
   "id": "fc2ec9a1-3806-482c-a554-70fdd83bb528",
   "metadata": {},
   "outputs": [],
   "source": [
    "The writelines() function is used to write a sequence of strings to a file"
   ]
  },
  {
   "cell_type": "code",
   "execution_count": 19,
   "id": "461d3761-a0a2-43a0-9642-7bb3eb1e416e",
   "metadata": {},
   "outputs": [],
   "source": [
    "with open(\"text6.txt\", \"w\") as file:\n",
    "    lines = [\"This is a test.\", \"This is another test.\"]\n",
    "    file.writelines(lines)"
   ]
  },
  {
   "cell_type": "code",
   "execution_count": null,
   "id": "a651450b-d839-45ea-a172-35da7e233d00",
   "metadata": {},
   "outputs": [],
   "source": []
  }
 ],
 "metadata": {
  "kernelspec": {
   "display_name": "Python 3 (ipykernel)",
   "language": "python",
   "name": "python3"
  },
  "language_info": {
   "codemirror_mode": {
    "name": "ipython",
    "version": 3
   },
   "file_extension": ".py",
   "mimetype": "text/x-python",
   "name": "python",
   "nbconvert_exporter": "python",
   "pygments_lexer": "ipython3",
   "version": "3.10.8"
  }
 },
 "nbformat": 4,
 "nbformat_minor": 5
}
